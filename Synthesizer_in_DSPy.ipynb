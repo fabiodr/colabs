{
  "nbformat": 4,
  "nbformat_minor": 0,
  "metadata": {
    "colab": {
      "provenance": [],
      "toc_visible": true,
      "include_colab_link": true
    },
    "kernelspec": {
      "name": "python3",
      "display_name": "Python 3"
    },
    "language_info": {
      "name": "python"
    }
  },
  "cells": [
    {
      "cell_type": "markdown",
      "metadata": {
        "id": "view-in-github",
        "colab_type": "text"
      },
      "source": [
        "<a href=\"https://colab.research.google.com/github/fabiodr/colabs/blob/main/Synthesizer_in_DSPy.ipynb\" target=\"_parent\"><img src=\"https://colab.research.google.com/assets/colab-badge.svg\" alt=\"Open In Colab\"/></a>"
      ]
    },
    {
      "cell_type": "markdown",
      "source": [
        "![dspy_logo.png](data:image/png;base64,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)"
      ],
      "metadata": {
        "id": "pOqZ6eoCzQ6O"
      }
    },
    {
      "cell_type": "markdown",
      "source": [
        "Often times it happens that we think of a task to solve but when we start we either have less data(<10 examples) or we have no data at all. In both cases, one would either give up on the task or spend a good chunk of time curating data for it, be it for optimizing DSPy pipelines or evaluating them.\n",
        "\n",
        "But what if we could generate more data by giving whatever small amount of data we have or what if we could generate more data by merely giving the layout of the task a.k.a. `dspy.Signature`. This is what `Synthesizer` aims to solve, to generate diverse quality synthetic data based on DSPy Signature or few examples of how dataset should be like,\n",
        "\n",
        "`Synthesizer` also provides you options to steer you generations in the optimal direction like:\n",
        "\n",
        "* Feedback driven generation(Automated feedback and Human in a loop Feedback)\n",
        "* Example driven generation(For improve variance in generation)\n",
        "* Option to use different LM for input and output data generation\n",
        "\n",
        "With just a few lines of code you can generated hundreds and thousands of more datapoints!! Let's see how..."
      ],
      "metadata": {
        "id": "EBrHXszgwoTR"
      }
    },
    {
      "cell_type": "markdown",
      "source": [
        "## Setting Up"
      ],
      "metadata": {
        "id": "NVeVaUynzUTR"
      }
    },
    {
      "cell_type": "code",
      "execution_count": null,
      "metadata": {
        "id": "YVULDdqLwmf-",
        "colab": {
          "base_uri": "https://localhost:8080/"
        },
        "outputId": "48c413d8-dc6f-473b-a5cc-14b086f27d49"
      },
      "outputs": [
        {
          "output_type": "stream",
          "name": "stdout",
          "text": [
            "fatal: cannot change to 'dspy': No such file or directory\n",
            "Cloning into 'dspy'...\n",
            "remote: Enumerating objects: 27221, done.\u001b[K\n",
            "remote: Counting objects: 100% (4294/4294), done.\u001b[K\n",
            "remote: Compressing objects: 100% (1366/1366), done.\u001b[K\n",
            "remote: Total 27221 (delta 3244), reused 3514 (delta 2892), pack-reused 22927\u001b[K\n",
            "Receiving objects: 100% (27221/27221), 26.27 MiB | 15.66 MiB/s, done.\n",
            "Resolving deltas: 100% (11679/11679), done.\n",
            "Requirement already satisfied: pip in /usr/local/lib/python3.10/dist-packages (23.1.2)\n",
            "Collecting pip\n",
            "  Downloading pip-24.0-py3-none-any.whl (2.1 MB)\n",
            "\u001b[2K     \u001b[90m━━━━━━━━━━━━━━━━━━━━━━━━━━━━━━━━━━━━━━━━\u001b[0m \u001b[32m2.1/2.1 MB\u001b[0m \u001b[31m11.3 MB/s\u001b[0m eta \u001b[36m0:00:00\u001b[0m\n",
            "\u001b[?25hInstalling collected packages: pip\n",
            "  Attempting uninstall: pip\n",
            "    Found existing installation: pip 23.1.2\n",
            "    Uninstalling pip-23.1.2:\n",
            "      Successfully uninstalled pip-23.1.2\n",
            "Successfully installed pip-24.0\n",
            "Obtaining file:///content/dspy\n",
            "  Installing build dependencies ... \u001b[?25l\u001b[?25hdone\n",
            "  Checking if build backend supports build_editable ... \u001b[?25l\u001b[?25hdone\n",
            "  Getting requirements to build editable ... \u001b[?25l\u001b[?25hdone\n",
            "  Preparing editable metadata (pyproject.toml) ... \u001b[?25l\u001b[?25hdone\n",
            "Collecting backoff~=2.2.1 (from dspy-ai==2.4.1)\n",
            "  Downloading backoff-2.2.1-py3-none-any.whl.metadata (14 kB)\n",
            "Requirement already satisfied: joblib~=1.3.2 in /usr/local/lib/python3.10/dist-packages (from dspy-ai==2.4.1) (1.3.2)\n",
            "Collecting openai<2.0.0,>=0.28.1 (from dspy-ai==2.4.1)\n",
            "  Downloading openai-1.14.1-py3-none-any.whl.metadata (18 kB)\n",
            "Requirement already satisfied: pandas in /usr/local/lib/python3.10/dist-packages (from dspy-ai==2.4.1) (1.5.3)\n",
            "Requirement already satisfied: regex in /usr/local/lib/python3.10/dist-packages (from dspy-ai==2.4.1) (2023.12.25)\n",
            "Collecting ujson (from dspy-ai==2.4.1)\n",
            "  Downloading ujson-5.9.0-cp310-cp310-manylinux_2_17_x86_64.manylinux2014_x86_64.whl.metadata (8.7 kB)\n",
            "Requirement already satisfied: tqdm in /usr/local/lib/python3.10/dist-packages (from dspy-ai==2.4.1) (4.66.2)\n",
            "Collecting datasets<3.0.0,~=2.14.6 (from dspy-ai==2.4.1)\n",
            "  Downloading datasets-2.14.7-py3-none-any.whl.metadata (19 kB)\n",
            "Requirement already satisfied: requests in /usr/local/lib/python3.10/dist-packages (from dspy-ai==2.4.1) (2.31.0)\n",
            "Collecting optuna (from dspy-ai==2.4.1)\n",
            "  Downloading optuna-3.6.0-py3-none-any.whl.metadata (17 kB)\n",
            "Collecting pydantic==2.5.0 (from dspy-ai==2.4.1)\n",
            "  Downloading pydantic-2.5.0-py3-none-any.whl.metadata (174 kB)\n",
            "\u001b[2K     \u001b[90m━━━━━━━━━━━━━━━━━━━━━━━━━━━━━━━━━━━━━━━━\u001b[0m \u001b[32m174.6/174.6 kB\u001b[0m \u001b[31m6.8 MB/s\u001b[0m eta \u001b[36m0:00:00\u001b[0m\n",
            "\u001b[?25hRequirement already satisfied: annotated-types>=0.4.0 in /usr/local/lib/python3.10/dist-packages (from pydantic==2.5.0->dspy-ai==2.4.1) (0.6.0)\n",
            "Collecting pydantic-core==2.14.1 (from pydantic==2.5.0->dspy-ai==2.4.1)\n",
            "  Downloading pydantic_core-2.14.1-cp310-cp310-manylinux_2_17_x86_64.manylinux2014_x86_64.whl.metadata (6.5 kB)\n",
            "Requirement already satisfied: typing-extensions>=4.6.1 in /usr/local/lib/python3.10/dist-packages (from pydantic==2.5.0->dspy-ai==2.4.1) (4.10.0)\n",
            "Requirement already satisfied: numpy>=1.17 in /usr/local/lib/python3.10/dist-packages (from datasets<3.0.0,~=2.14.6->dspy-ai==2.4.1) (1.25.2)\n",
            "Requirement already satisfied: pyarrow>=8.0.0 in /usr/local/lib/python3.10/dist-packages (from datasets<3.0.0,~=2.14.6->dspy-ai==2.4.1) (14.0.2)\n",
            "Requirement already satisfied: pyarrow-hotfix in /usr/local/lib/python3.10/dist-packages (from datasets<3.0.0,~=2.14.6->dspy-ai==2.4.1) (0.6)\n",
            "Collecting dill<0.3.8,>=0.3.0 (from datasets<3.0.0,~=2.14.6->dspy-ai==2.4.1)\n",
            "  Downloading dill-0.3.7-py3-none-any.whl.metadata (9.9 kB)\n",
            "Collecting xxhash (from datasets<3.0.0,~=2.14.6->dspy-ai==2.4.1)\n",
            "  Downloading xxhash-3.4.1-cp310-cp310-manylinux_2_17_x86_64.manylinux2014_x86_64.whl.metadata (12 kB)\n",
            "Collecting multiprocess (from datasets<3.0.0,~=2.14.6->dspy-ai==2.4.1)\n",
            "  Downloading multiprocess-0.70.16-py310-none-any.whl.metadata (7.2 kB)\n",
            "Requirement already satisfied: fsspec<=2023.10.0,>=2023.1.0 in /usr/local/lib/python3.10/dist-packages (from fsspec[http]<=2023.10.0,>=2023.1.0->datasets<3.0.0,~=2.14.6->dspy-ai==2.4.1) (2023.6.0)\n",
            "Requirement already satisfied: aiohttp in /usr/local/lib/python3.10/dist-packages (from datasets<3.0.0,~=2.14.6->dspy-ai==2.4.1) (3.9.3)\n",
            "Requirement already satisfied: huggingface-hub<1.0.0,>=0.14.0 in /usr/local/lib/python3.10/dist-packages (from datasets<3.0.0,~=2.14.6->dspy-ai==2.4.1) (0.20.3)\n",
            "Requirement already satisfied: packaging in /usr/local/lib/python3.10/dist-packages (from datasets<3.0.0,~=2.14.6->dspy-ai==2.4.1) (24.0)\n",
            "Requirement already satisfied: pyyaml>=5.1 in /usr/local/lib/python3.10/dist-packages (from datasets<3.0.0,~=2.14.6->dspy-ai==2.4.1) (6.0.1)\n",
            "Requirement already satisfied: anyio<5,>=3.5.0 in /usr/local/lib/python3.10/dist-packages (from openai<2.0.0,>=0.28.1->dspy-ai==2.4.1) (3.7.1)\n",
            "Requirement already satisfied: distro<2,>=1.7.0 in /usr/lib/python3/dist-packages (from openai<2.0.0,>=0.28.1->dspy-ai==2.4.1) (1.7.0)\n",
            "Collecting httpx<1,>=0.23.0 (from openai<2.0.0,>=0.28.1->dspy-ai==2.4.1)\n",
            "  Downloading httpx-0.27.0-py3-none-any.whl.metadata (7.2 kB)\n",
            "Requirement already satisfied: sniffio in /usr/local/lib/python3.10/dist-packages (from openai<2.0.0,>=0.28.1->dspy-ai==2.4.1) (1.3.1)\n",
            "Requirement already satisfied: charset-normalizer<4,>=2 in /usr/local/lib/python3.10/dist-packages (from requests->dspy-ai==2.4.1) (3.3.2)\n",
            "Requirement already satisfied: idna<4,>=2.5 in /usr/local/lib/python3.10/dist-packages (from requests->dspy-ai==2.4.1) (3.6)\n",
            "Requirement already satisfied: urllib3<3,>=1.21.1 in /usr/local/lib/python3.10/dist-packages (from requests->dspy-ai==2.4.1) (2.0.7)\n",
            "Requirement already satisfied: certifi>=2017.4.17 in /usr/local/lib/python3.10/dist-packages (from requests->dspy-ai==2.4.1) (2024.2.2)\n",
            "Collecting alembic>=1.5.0 (from optuna->dspy-ai==2.4.1)\n",
            "  Downloading alembic-1.13.1-py3-none-any.whl.metadata (7.4 kB)\n",
            "Collecting colorlog (from optuna->dspy-ai==2.4.1)\n",
            "  Downloading colorlog-6.8.2-py3-none-any.whl.metadata (10 kB)\n",
            "Requirement already satisfied: sqlalchemy>=1.3.0 in /usr/local/lib/python3.10/dist-packages (from optuna->dspy-ai==2.4.1) (2.0.28)\n",
            "Requirement already satisfied: python-dateutil>=2.8.1 in /usr/local/lib/python3.10/dist-packages (from pandas->dspy-ai==2.4.1) (2.8.2)\n",
            "Requirement already satisfied: pytz>=2020.1 in /usr/local/lib/python3.10/dist-packages (from pandas->dspy-ai==2.4.1) (2023.4)\n",
            "Collecting Mako (from alembic>=1.5.0->optuna->dspy-ai==2.4.1)\n",
            "  Downloading Mako-1.3.2-py3-none-any.whl.metadata (2.9 kB)\n",
            "Requirement already satisfied: exceptiongroup in /usr/local/lib/python3.10/dist-packages (from anyio<5,>=3.5.0->openai<2.0.0,>=0.28.1->dspy-ai==2.4.1) (1.2.0)\n",
            "Requirement already satisfied: aiosignal>=1.1.2 in /usr/local/lib/python3.10/dist-packages (from aiohttp->datasets<3.0.0,~=2.14.6->dspy-ai==2.4.1) (1.3.1)\n",
            "Requirement already satisfied: attrs>=17.3.0 in /usr/local/lib/python3.10/dist-packages (from aiohttp->datasets<3.0.0,~=2.14.6->dspy-ai==2.4.1) (23.2.0)\n",
            "Requirement already satisfied: frozenlist>=1.1.1 in /usr/local/lib/python3.10/dist-packages (from aiohttp->datasets<3.0.0,~=2.14.6->dspy-ai==2.4.1) (1.4.1)\n",
            "Requirement already satisfied: multidict<7.0,>=4.5 in /usr/local/lib/python3.10/dist-packages (from aiohttp->datasets<3.0.0,~=2.14.6->dspy-ai==2.4.1) (6.0.5)\n",
            "Requirement already satisfied: yarl<2.0,>=1.0 in /usr/local/lib/python3.10/dist-packages (from aiohttp->datasets<3.0.0,~=2.14.6->dspy-ai==2.4.1) (1.9.4)\n",
            "Requirement already satisfied: async-timeout<5.0,>=4.0 in /usr/local/lib/python3.10/dist-packages (from aiohttp->datasets<3.0.0,~=2.14.6->dspy-ai==2.4.1) (4.0.3)\n",
            "Collecting httpcore==1.* (from httpx<1,>=0.23.0->openai<2.0.0,>=0.28.1->dspy-ai==2.4.1)\n",
            "  Downloading httpcore-1.0.4-py3-none-any.whl.metadata (20 kB)\n",
            "Collecting h11<0.15,>=0.13 (from httpcore==1.*->httpx<1,>=0.23.0->openai<2.0.0,>=0.28.1->dspy-ai==2.4.1)\n",
            "  Downloading h11-0.14.0-py3-none-any.whl.metadata (8.2 kB)\n",
            "Requirement already satisfied: filelock in /usr/local/lib/python3.10/dist-packages (from huggingface-hub<1.0.0,>=0.14.0->datasets<3.0.0,~=2.14.6->dspy-ai==2.4.1) (3.13.1)\n",
            "Requirement already satisfied: six>=1.5 in /usr/local/lib/python3.10/dist-packages (from python-dateutil>=2.8.1->pandas->dspy-ai==2.4.1) (1.16.0)\n",
            "Requirement already satisfied: greenlet!=0.4.17 in /usr/local/lib/python3.10/dist-packages (from sqlalchemy>=1.3.0->optuna->dspy-ai==2.4.1) (3.0.3)\n",
            "INFO: pip is looking at multiple versions of multiprocess to determine which version is compatible with other requirements. This could take a while.\n",
            "Collecting multiprocess (from datasets<3.0.0,~=2.14.6->dspy-ai==2.4.1)\n",
            "  Downloading multiprocess-0.70.15-py310-none-any.whl.metadata (7.2 kB)\n",
            "Requirement already satisfied: MarkupSafe>=0.9.2 in /usr/local/lib/python3.10/dist-packages (from Mako->alembic>=1.5.0->optuna->dspy-ai==2.4.1) (2.1.5)\n",
            "Downloading pydantic-2.5.0-py3-none-any.whl (407 kB)\n",
            "\u001b[2K   \u001b[90m━━━━━━━━━━━━━━━━━━━━━━━━━━━━━━━━━━━━━━━━\u001b[0m \u001b[32m407.5/407.5 kB\u001b[0m \u001b[31m26.1 MB/s\u001b[0m eta \u001b[36m0:00:00\u001b[0m\n",
            "\u001b[?25hDownloading pydantic_core-2.14.1-cp310-cp310-manylinux_2_17_x86_64.manylinux2014_x86_64.whl (2.1 MB)\n",
            "\u001b[2K   \u001b[90m━━━━━━━━━━━━━━━━━━━━━━━━━━━━━━━━━━━━━━━━\u001b[0m \u001b[32m2.1/2.1 MB\u001b[0m \u001b[31m69.8 MB/s\u001b[0m eta \u001b[36m0:00:00\u001b[0m\n",
            "\u001b[?25hDownloading backoff-2.2.1-py3-none-any.whl (15 kB)\n",
            "Downloading datasets-2.14.7-py3-none-any.whl (520 kB)\n",
            "\u001b[2K   \u001b[90m━━━━━━━━━━━━━━━━━━━━━━━━━━━━━━━━━━━━━━━━\u001b[0m \u001b[32m520.4/520.4 kB\u001b[0m \u001b[31m27.2 MB/s\u001b[0m eta \u001b[36m0:00:00\u001b[0m\n",
            "\u001b[?25hDownloading openai-1.14.1-py3-none-any.whl (257 kB)\n",
            "\u001b[2K   \u001b[90m━━━━━━━━━━━━━━━━━━━━━━━━━━━━━━━━━━━━━━━━\u001b[0m \u001b[32m257.5/257.5 kB\u001b[0m \u001b[31m16.5 MB/s\u001b[0m eta \u001b[36m0:00:00\u001b[0m\n",
            "\u001b[?25hDownloading optuna-3.6.0-py3-none-any.whl (379 kB)\n",
            "\u001b[2K   \u001b[90m━━━━━━━━━━━━━━━━━━━━━━━━━━━━━━━━━━━━━━━━\u001b[0m \u001b[32m379.9/379.9 kB\u001b[0m \u001b[31m22.3 MB/s\u001b[0m eta \u001b[36m0:00:00\u001b[0m\n",
            "\u001b[?25hDownloading ujson-5.9.0-cp310-cp310-manylinux_2_17_x86_64.manylinux2014_x86_64.whl (53 kB)\n",
            "\u001b[2K   \u001b[90m━━━━━━━━━━━━━━━━━━━━━━━━━━━━━━━━━━━━━━━━\u001b[0m \u001b[32m53.2/53.2 kB\u001b[0m \u001b[31m4.1 MB/s\u001b[0m eta \u001b[36m0:00:00\u001b[0m\n",
            "\u001b[?25hDownloading alembic-1.13.1-py3-none-any.whl (233 kB)\n",
            "\u001b[2K   \u001b[90m━━━━━━━━━━━━━━━━━━━━━━━━━━━━━━━━━━━━━━━━\u001b[0m \u001b[32m233.4/233.4 kB\u001b[0m \u001b[31m16.6 MB/s\u001b[0m eta \u001b[36m0:00:00\u001b[0m\n",
            "\u001b[?25hDownloading dill-0.3.7-py3-none-any.whl (115 kB)\n",
            "\u001b[2K   \u001b[90m━━━━━━━━━━━━━━━━━━━━━━━━━━━━━━━━━━━━━━━━\u001b[0m \u001b[32m115.3/115.3 kB\u001b[0m \u001b[31m9.1 MB/s\u001b[0m eta \u001b[36m0:00:00\u001b[0m\n",
            "\u001b[?25hDownloading httpx-0.27.0-py3-none-any.whl (75 kB)\n",
            "\u001b[2K   \u001b[90m━━━━━━━━━━━━━━━━━━━━━━━━━━━━━━━━━━━━━━━━\u001b[0m \u001b[32m75.6/75.6 kB\u001b[0m \u001b[31m6.3 MB/s\u001b[0m eta \u001b[36m0:00:00\u001b[0m\n",
            "\u001b[?25hDownloading httpcore-1.0.4-py3-none-any.whl (77 kB)\n",
            "\u001b[2K   \u001b[90m━━━━━━━━━━━━━━━━━━━━━━━━━━━━━━━━━━━━━━━━\u001b[0m \u001b[32m77.8/77.8 kB\u001b[0m \u001b[31m6.5 MB/s\u001b[0m eta \u001b[36m0:00:00\u001b[0m\n",
            "\u001b[?25hDownloading colorlog-6.8.2-py3-none-any.whl (11 kB)\n",
            "Downloading multiprocess-0.70.15-py310-none-any.whl (134 kB)\n",
            "\u001b[2K   \u001b[90m━━━━━━━━━━━━━━━━━━━━━━━━━━━━━━━━━━━━━━━━\u001b[0m \u001b[32m134.8/134.8 kB\u001b[0m \u001b[31m10.6 MB/s\u001b[0m eta \u001b[36m0:00:00\u001b[0m\n",
            "\u001b[?25hDownloading xxhash-3.4.1-cp310-cp310-manylinux_2_17_x86_64.manylinux2014_x86_64.whl (194 kB)\n",
            "\u001b[2K   \u001b[90m━━━━━━━━━━━━━━━━━━━━━━━━━━━━━━━━━━━━━━━━\u001b[0m \u001b[32m194.1/194.1 kB\u001b[0m \u001b[31m12.4 MB/s\u001b[0m eta \u001b[36m0:00:00\u001b[0m\n",
            "\u001b[?25hDownloading Mako-1.3.2-py3-none-any.whl (78 kB)\n",
            "\u001b[2K   \u001b[90m━━━━━━━━━━━━━━━━━━━━━━━━━━━━━━━━━━━━━━━━\u001b[0m \u001b[32m78.7/78.7 kB\u001b[0m \u001b[31m6.4 MB/s\u001b[0m eta \u001b[36m0:00:00\u001b[0m\n",
            "\u001b[?25hDownloading h11-0.14.0-py3-none-any.whl (58 kB)\n",
            "\u001b[2K   \u001b[90m━━━━━━━━━━━━━━━━━━━━━━━━━━━━━━━━━━━━━━━━\u001b[0m \u001b[32m58.3/58.3 kB\u001b[0m \u001b[31m3.8 MB/s\u001b[0m eta \u001b[36m0:00:00\u001b[0m\n",
            "\u001b[?25hBuilding wheels for collected packages: dspy-ai\n",
            "  Building editable for dspy-ai (pyproject.toml) ... \u001b[?25l\u001b[?25hdone\n",
            "  Created wheel for dspy-ai: filename=dspy_ai-2.4.1-0.editable-py3-none-any.whl size=16859 sha256=a8f37a7e8d00821844b4b8c1ea0482de84fac6594624c627f5c6c103392170aa\n",
            "  Stored in directory: /tmp/pip-ephem-wheel-cache-vbkjxgky/wheels/80/c7/dd/82bee9a1efa54dd8a664012a2537077eafe45c01781e3e9d68\n",
            "Successfully built dspy-ai\n",
            "Installing collected packages: xxhash, ujson, pydantic-core, Mako, h11, dill, colorlog, backoff, pydantic, multiprocess, httpcore, alembic, optuna, httpx, openai, datasets, dspy-ai\n",
            "  Attempting uninstall: pydantic-core\n",
            "    Found existing installation: pydantic_core 2.16.3\n",
            "    Uninstalling pydantic_core-2.16.3:\n",
            "      Successfully uninstalled pydantic_core-2.16.3\n",
            "  Attempting uninstall: pydantic\n",
            "    Found existing installation: pydantic 2.6.4\n",
            "    Uninstalling pydantic-2.6.4:\n",
            "      Successfully uninstalled pydantic-2.6.4\n",
            "Successfully installed Mako-1.3.2 alembic-1.13.1 backoff-2.2.1 colorlog-6.8.2 datasets-2.14.7 dill-0.3.7 dspy-ai-2.4.1 h11-0.14.0 httpcore-1.0.4 httpx-0.27.0 multiprocess-0.70.15 openai-1.14.1 optuna-3.6.0 pydantic-2.5.0 pydantic-core-2.14.1 ujson-5.9.0 xxhash-3.4.1\n",
            "\u001b[33mWARNING: Running pip as the 'root' user can result in broken permissions and conflicting behaviour with the system package manager. It is recommended to use a virtual environment instead: https://pip.pypa.io/warnings/venv\u001b[0m\u001b[33m\n",
            "\u001b[0m"
          ]
        }
      ],
      "source": [
        "%load_ext autoreload\n",
        "%autoreload 2\n",
        "\n",
        "import sys\n",
        "import os\n",
        "\n",
        "try: # When on google Colab, let's clone the notebook so we download the cache.\n",
        "    import google.colab\n",
        "    repo_path = 'dspy'\n",
        "    !git -C $repo_path pull origin || git clone https://github.com/stanfordnlp/dspy $repo_path\n",
        "except:\n",
        "    repo_path = '.'\n",
        "\n",
        "if repo_path not in sys.path:\n",
        "    sys.path.append(repo_path)\n",
        "\n",
        "# Set up the cache for this notebook\n",
        "os.environ[\"DSP_NOTEBOOK_CACHEDIR\"] = os.path.join(repo_path, 'cache')\n",
        "\n",
        "import pkg_resources # Install the package if it's not installed\n",
        "if not \"dspy-ai\" in {pkg.key for pkg in pkg_resources.working_set}:\n",
        "    !pip install -U pip\n",
        "    # !pip install dspy-ai\n",
        "    !pip install -e $repo_path"
      ]
    },
    {
      "cell_type": "code",
      "source": [
        "import dsp\n",
        "import dspy\n",
        "import openai\n",
        "\n",
        "from dspy.datasets import DataLoader\n",
        "from dspy.experimental import Synthesizer, SynthesizerArguments"
      ],
      "metadata": {
        "id": "MWXq_WhQhkB2"
      },
      "execution_count": null,
      "outputs": []
    },
    {
      "cell_type": "code",
      "source": [
        "openai.api_key = \"\"\n",
        "\n",
        "turbo = dspy.OpenAI(model='gpt-3.5-turbo-0125', max_tokens=512)\n",
        "dspy.settings.configure(lm=turbo)"
      ],
      "metadata": {
        "id": "4CoRMa2qhoKr"
      },
      "execution_count": null,
      "outputs": []
    },
    {
      "cell_type": "markdown",
      "source": [
        "# Synthetic Data Generation with `Synthesizer`\n",
        "\n",
        "`Synthesizer` provides you 2 ways to ground your generations: **DSPy Signatures** and `dspy.Example`. In simple terms, you can tell the `Synthesizer` about the inputs, outputs and task of the synthetic data via these 2 ways."
      ],
      "metadata": {
        "id": "Th6MmBEiznK3"
      }
    },
    {
      "cell_type": "markdown",
      "source": [
        "## Synthetic Data Generation with Examples\n",
        "\n",
        "One the the simplest way to generate synthetic data especially if you have some data in small amount say 3-10 examples, then you can simply pass them to the `Synthesizer` as `ground_source` argument of `generate` method. What the task is and what the inputs and outputs mean is determined by the Synthesizer.\n",
        "\n",
        "If you pass some examples as `ground_source` you must pass it as a List of `dspy.Example` with `input_keys` set and rest you can leave upto `Synthesizer` to infer."
      ],
      "metadata": {
        "id": "T9tNHN11zXNJ"
      }
    },
    {
      "cell_type": "code",
      "source": [
        "from dspy.datasets import DataLoader\n",
        "from dspy.experimental import Synthesizer, SynthesizerArguments\n",
        "\n",
        "dl = DataLoader()\n",
        "\n",
        "gsm8k_data = dl.from_huggingface(\n",
        "    \"gsm8k\", \"main\",\n",
        "    fields=(\"question\", \"answer\"),\n",
        "    input_keys=(\"question\",),\n",
        "    split=\"train[:8]\"\n",
        ")\n",
        "\n",
        "config = SynthesizerArguments()\n",
        "synthesizer = Synthesizer(config=config)\n",
        "\n",
        "synthesizer.generate(\n",
        "    ground_source=gsm8k_data,\n",
        "    num_data=10,\n",
        "    batch_size=2,\n",
        ")"
      ],
      "metadata": {
        "id": "dzl7-fS7zc8f"
      },
      "execution_count": null,
      "outputs": []
    },
    {
      "cell_type": "markdown",
      "source": [
        "## Synthetic Data Generation with `dspy.Signature`\n",
        "\n",
        "One of the most convinient way to generate synthetic data is by passing the signature as `ground_source`. If you are working in DSPy you will have atleast the `dspy.Signature` of the task you are solving.\n",
        "\n",
        "All you gotta do is pass it as argument and relax. You can improve the generations by passing the `desc` of each field and explaining it in depth but if you don't want to `Synthesizer` will do it for you."
      ],
      "metadata": {
        "id": "zeTDHCJZzdaP"
      }
    },
    {
      "cell_type": "code",
      "source": [
        "class GenerateAnswer(dspy.Signature):\n",
        "    \"\"\"Answer questions with short factoid answers.\"\"\"\n",
        "\n",
        "    context = dspy.InputField(desc=\"may contain relevant facts\")\n",
        "    question = dspy.InputField()\n",
        "    answer = dspy.OutputField(desc=\"often between 1 and 5 words\")\n",
        "\n",
        "config = SynthesizerArguments()\n",
        "synthesizer = Synthesizer(config=config)\n",
        "\n",
        "syn_data = synthesizer.generate(\n",
        "    ground_source=GenerateAnswer,\n",
        "    num_data=10\n",
        ")"
      ],
      "metadata": {
        "id": "VSHMGARlzmnQ"
      },
      "execution_count": null,
      "outputs": []
    },
    {
      "cell_type": "markdown",
      "source": [
        "# Optimizing Generations\n",
        "\n",
        "There are a lot of ways in which you can improve the generations in terms of the time taken for generation as well as the quality of generated data that `Synthesizer` provides you out of the box."
      ],
      "metadata": {
        "id": "F0SLSNBozv1L"
      }
    },
    {
      "cell_type": "markdown",
      "source": [
        "## Batch Generations\n",
        "\n",
        "If you want a slight improvement with latency without compromising on the model you are using for generation is via batch generations which lets the LLM generate the data in batches. If improves the latency a bit but sometimes compromises the data variance with weaker LLMs."
      ],
      "metadata": {
        "id": "1_m-aNyWhurI"
      }
    },
    {
      "cell_type": "code",
      "source": [
        "config = SynthesizerArguments()\n",
        "synthesizer = Synthesizer(config=config)\n",
        "\n",
        "synthesizer.generate(\n",
        "    ground_source=gsm8k_data,\n",
        "    num_data=10,\n",
        "    batch_size=2,\n",
        ")"
      ],
      "metadata": {
        "id": "UBtSOwfEzyWB"
      },
      "execution_count": null,
      "outputs": []
    },
    {
      "cell_type": "markdown",
      "source": [
        "## Feedback Driven Generation\n",
        "\n",
        "Synthesizer in itself is great at figuring out the nature of dataset and it's corresponding fields. However, you can make the generations even better by passing feedback for first **n** generations yourself. This **n** is set by passing `num_example_for_feedback` in config.\n",
        "\n",
        "`Synthesizer` provides 2 modes of feedback:\n",
        "\n",
        "* `human`: You see the generation and provide feedback yourself.\n",
        "* `llm`: LLM gives the feedback by critisizing the generation if needed.\n",
        "\n",
        "`Synthesizer` takes these feedback and modifies it's generation signatures to improve the generation and currently my go to method for generation."
      ],
      "metadata": {
        "id": "tEr0Qw5Fzy-n"
      }
    },
    {
      "cell_type": "code",
      "source": [
        "config = SynthesizerArguments(\n",
        "    feedback_mode=\"human\",\n",
        "    num_example_for_feedback=3,\n",
        ")\n",
        "synthesizer = Synthesizer(config=config)\n",
        "\n",
        "syn_data = synthesizer.generate(\n",
        "    ground_source=GenerateAnswer,\n",
        "    num_data=10\n",
        ")"
      ],
      "metadata": {
        "id": "221Dd1mcz2qN"
      },
      "execution_count": null,
      "outputs": []
    },
    {
      "cell_type": "markdown",
      "source": [
        "## Example Driven Generation\n",
        "\n",
        "You can improve the diversity of the generation by letting `Synthesizer` use the examples as few shot example for generating data for input fields. While this improves diversity of the output it also increases the cost of generations too!"
      ],
      "metadata": {
        "id": "p-YhKAdWz3T5"
      }
    },
    {
      "cell_type": "code",
      "source": [
        "config = SynthesizerArguments(\n",
        "    num_example_for_optim=2\n",
        ")\n",
        "\n",
        "synthesizer = Synthesizer(config=config)\n",
        "\n",
        "syn_data = synthesizer.generate(\n",
        "    ground_source=gsm8k_data,\n",
        "    num_data=10\n",
        ")"
      ],
      "metadata": {
        "id": "AUaAI0oOz9WK"
      },
      "execution_count": null,
      "outputs": []
    },
    {
      "cell_type": "markdown",
      "source": [
        "## Teacher Based Output Generation\n",
        "\n",
        "`Synthesizer` creates a simple Signature that helps generating labels for the synthetic data however you can pass your own DSPy Pipelines to labels the inputs for improved output data generation."
      ],
      "metadata": {
        "id": "pWPcS2RG0C5f"
      }
    },
    {
      "cell_type": "code",
      "source": [
        "config = SynthesizerArguments(\n",
        "    output_teacher_module=GSM8KTeacherModule(),\n",
        ")\n",
        "\n",
        "synthesizer = Synthesizer(config=config)\n",
        "\n",
        "syn_data = synthesizer.generate(\n",
        "    ground_source=gsm8k_data,\n",
        "    num_data=10\n",
        ")"
      ],
      "metadata": {
        "id": "ifzlnX270G9V"
      },
      "execution_count": null,
      "outputs": []
    },
    {
      "cell_type": "markdown",
      "source": [
        "# Cost Management Tips"
      ],
      "metadata": {
        "id": "rTdd0VfUz-F3"
      }
    },
    {
      "cell_type": "markdown",
      "source": [
        "## Managing LM for Different Pipelines\n",
        "\n",
        "`Synthesizer` generates input and output data seperately and it also lets you choose the LLM to use for generation in both. So you can as it to generate input data via a weaker LLM but the output via a stronger LLM like GPT-4.\n",
        "\n",
        "This way you can avoid using a stronger LLMs if you don't want to."
      ],
      "metadata": {
        "id": "jJ4aCjgn0I-d"
      }
    },
    {
      "cell_type": "code",
      "source": [
        "config = SynthesizerArguments(\n",
        "    input_lm_model=turbo,\n",
        "    output_lm_model=dspy.OpenAI(model='gpt-4-turbo-preview', max_tokens=512)\n",
        ")\n",
        "\n",
        "synthesizer = Synthesizer(config=config)\n",
        "\n",
        "syn_data = synthesizer.generate(\n",
        "    ground_source=GenerateAnswer,\n",
        "    num_data=10\n",
        ")"
      ],
      "metadata": {
        "id": "76BvcTBA0Baj"
      },
      "execution_count": null,
      "outputs": []
    }
  ]
}